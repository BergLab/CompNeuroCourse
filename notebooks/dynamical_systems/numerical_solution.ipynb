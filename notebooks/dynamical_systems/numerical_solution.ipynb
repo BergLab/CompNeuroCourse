{
 "cells": [
  {
   "cell_type": "markdown",
   "id": "f13c1e96",
   "metadata": {},
   "source": [
    "# Solving differential equations: Numerical solution\n",
    "\n",
    "Differential equations can often be solved using a mathematical approach, which is called \"analytical solution\". This requires good skills in math, as a minimum. Some differential equations are not even possible to solve analytically. Therefore it is very useful to be able to solve differential equations using an approximation and a computer. That is called a \"numerical solution\" or solving the equation numerically.\n",
    "\n",
    "## The forward Euler's method: The simple but imprecise method.\n",
    "Let us consider a one-dimensional differential equation written in a general form:\n",
    "\n",
    "$$\n",
    "\n",
    "\\frac{dx}{dt} = f(x,t)\n",
    "\n",
    "$$\n",
    "\n",
    "\n",
    "where:\n",
    "\n",
    "- $x$ is some variable, e.g. the firing rate of a neuron,\n",
    "- $t$ is time \n",
    "- $dx/dt$, is the rate of change of $x$ and is equal to  $f()$ is some function of both $x$ and $t$.  \n",
    "\n",
    "To solve a differential equation, there must be an *Initial Value* that is used to calculate the change. This introduces an interesting property of differential equations: The values of the variables (in this case it is $x$) are different depending on the initial value, but the equation that governs the values is the same. Let us call the initial value of $x$, i.e. the value at $t=0$\n",
    "\n",
    "$$\n",
    "x_o = x(t=0) \n",
    "$$\n",
    "\n",
    "Although time and $x$ are continuous variables, we will approximate their values at descrete times, $t_n = n\\Delta t$, where $n$ indicates the $n$th point and $n\\Delta t$ is the associated time point.\n",
    "\n",
    "$$\n",
    "x_n = x(t_n=n\\Delta t)\n",
    "$$\n",
    "Now we approximate the differential equation above as the rate of change in the time window of consideration, $\\Delta t$:\n",
    "\n",
    "$$\n",
    "\\frac{x_{n+1}-x_n}{\\Delta t} = f(x_n,t_n)\n",
    "$$\n",
    "\n",
    "Hence, we can calculate the approximated updated value of $x$ as\n",
    "\n",
    "$$\n",
    "x_{n+1} = x_{n}+f(x_n,t_n)\\Delta t\n",
    "$$\n",
    "\n",
    "We can rewrite as\n",
    "\n",
    "$$\n",
    "x_{n+1} = x_{n}+\\Delta t \\frac{dx}{dt}\n",
    "$$\n",
    "\n",
    "where the slope $\\frac{dx}{dt}$ is corresponding to the time point $t_n$. These iterative equationas are approximation, which is more correct if $f(x_n,t_n)$ is more linear. Also, choosing a smaller $\\Delta t$ increase the accuracy of the update, but this requires more updates for the same amount of time. The accuracy can be estimated to an *order* of:\n",
    "\n",
    "$$\n",
    "Accuracy \\sim \\frac{\\Delta t}{T}\n",
    "$$\n",
    "\n",
    "Where $T$ is the timescale of change of $f$. So ideally $\\Delta t$ is small compared with the rate of change of $T$. If not, then the approximation quickly breaks down. As we will discuss below, there is a much better estimation method called 4th order Runge-Kutta, which has an accuracy of $(\\frac{\\Delta t}{T})^4$, i.e. 10 000 time better than the forward Euler method.\n",
    "\n",
    "## Using for-loop to solve numerically\n",
    "Since the forward Euler method is an iterative process, i.e. calculating the updates in $x$ as $x_{n+1} = x_{n}+f(x_n,t_n)\\Delta t$, it makes sense to use a *for loop*. A for loop in Python is a control structure used to iterate over a sequence (like a list, tuple, string, or range) and repeat a block of code for each item in that sequence. The basic syntax of a for loop is the following:\n",
    " "
   ]
  },
  {
   "cell_type": "code",
   "execution_count": null,
   "id": "cbca97d4",
   "metadata": {
    "vscode": {
     "languageId": "plaintext"
    }
   },
   "outputs": [],
   "source": [
    "for item in sequence:\n",
    "    # Do something with item"
   ]
  },
  {
   "cell_type": "markdown",
   "id": "053075fc",
   "metadata": {},
   "source": [
    "Here is an example of a for loop using a list, where the script is going through a loop printing each element in the list:"
   ]
  },
  {
   "cell_type": "code",
   "execution_count": null,
   "id": "26c7b68f",
   "metadata": {},
   "outputs": [],
   "source": [
    "fruits = [\"apple\", \"banana\", \"cherry\"]\n",
    "\n",
    "for fruit in fruits:\n",
    "    print(fruit)"
   ]
  },
  {
   "cell_type": "markdown",
   "id": "680759f8",
   "metadata": {},
   "source": [
    "Here it is using *range()* to repeat an action:"
   ]
  },
  {
   "cell_type": "markdown",
   "id": "dd4b62b4",
   "metadata": {},
   "source": []
  },
  {
   "cell_type": "code",
   "execution_count": null,
   "id": "be2f5987",
   "metadata": {
    "vscode": {
     "languageId": "plaintext"
    }
   },
   "outputs": [],
   "source": [
    "for i in range(5):\n",
    "    print(i)"
   ]
  },
  {
   "cell_type": "markdown",
   "id": "24d59931",
   "metadata": {},
   "source": [
    "Key Points:\n",
    "\n",
    "- The for loop automatically gets each item from the sequence.\n",
    "\n",
    "- It runs the indented block once for each item.\n",
    "\n",
    "- No need to manage index counters manually like in some other languages (though you can if needed).\n",
    "\n",
    "## Exercise: Integrate the membrane  equation using the forward Euler's method\n",
    "\n",
    "$$\n",
    "\\frac{dV}{dt} = -\\frac{1}{\\tau} (V-V_{rest})\n",
    "$$\n",
    "\n",
    "This is a classic leaky integrator model from neuroscience. Let's solve it with:\n",
    "\n",
    "- $V_{rest}=−65 mV$\n",
    "- $\\tau = 10$ ms\n",
    "- Initial condition: $V(0)=-55$ mV\n",
    "- Time step: $\\Delta t = 1$ ms\n",
    "- Simulate for 100 ms\n",
    "\n",
    "## Euler's method formula:\n",
    "\n",
    "$$\n",
    "V_{n+1} =V_{n} + \\Delta t \\frac{dV}{dt}\n",
    "$$"
   ]
  },
  {
   "cell_type": "code",
   "execution_count": null,
   "id": "d1af0d6c",
   "metadata": {
    "vscode": {
     "languageId": "plaintext"
    }
   },
   "outputs": [],
   "source": [
    "import numpy as np\n",
    "import matplotlib.pyplot as plt\n",
    "\n",
    "# Parameters\n",
    "V_rest = -65      # Resting potential (mV)\n",
    "tau = 10          # Time constant (ms)\n",
    "dt = 1            # Time step (ms)\n",
    "T = 100           # Total simulation time (ms)\n",
    "\n",
    "# Time array\n",
    "time = np.arange(0, T + dt, dt)\n",
    "\n",
    "# Initialize voltage array\n",
    "V = np.zeros(len(time))\n",
    "V[0] = -55  # Initial condition\n",
    "\n",
    "# Euler integration using a for loop\n",
    "for i in range(1, len(time)):\n",
    "    dVdt = -(V[i-1] - V_rest) / tau\n",
    "    V[i] = V[i-1] + dt * dVdt\n",
    "\n",
    "# Plot the result\n",
    "plt.plot(time, V)\n",
    "plt.xlabel('Time (ms)')\n",
    "plt.ylabel('Membrane potential V (mV)')\n",
    "plt.title(\"Euler's Method: Leaky Integrator\")\n",
    "plt.grid(True)\n",
    "plt.show()"
   ]
  },
  {
   "cell_type": "markdown",
   "id": "28e0e071",
   "metadata": {},
   "source": [
    "Exercise: Plot the solution to the following differential equations:\n",
    "\n",
    "- $ \\frac{dx}{dt} = exp(t/\\tau)$, $x(t=0)=1$. $\\tau = 0.1$. Plot from t=-5 to 5. Try varying the $\\Delta t$, and other parameters\n",
    "- $ \\frac{dx}{dt} = 2sin(2x)$, $x(t=0)=0$. Plot from t=-5 to 5. Try varying the $\\Delta t$, and other parameters\n",
    "- $ \\frac{dx}{dt} = 2x^2$, Plot from t=-2 to 2. Try varying the $\\Delta t$, and other parameters\n"
   ]
  },
  {
   "cell_type": "markdown",
   "id": "f38ddfec",
   "metadata": {},
   "source": [
    "## A better method: 4th order Runge-Kutta\n",
    "\n",
    "A very popular numerical method for integrating ordinary differential equations is the 4th order Runge-Kutta (RK4). It improves on Euler's method by taking multiple estimates of the slope at each step and combining them in a weighted average. Let us again look at the differential equation from above:\n",
    "\n",
    "$$\n",
    "\n",
    "\\frac{dx}{dt} = f(x,t)\n",
    "\n",
    "$$\n",
    " The RK4 computes the values of $x_{n+1}$ from the current value of $x_n$ using the following set of estimations:\n",
    "\n",
    "$$\n",
    "k_1 = f(x_n,t_n) \\\\\n",
    "$$\n",
    "\n",
    "$$\n",
    "k_2= f( x_n + \\frac{\\Delta t }{2}k_1, t_n + \\frac{\\Delta t }{2}) \\\\\n",
    "$$\n",
    "\n",
    "$$\n",
    "k_3= f( x_n + \\frac{\\Delta t }{2}k_2, t_n + \\frac{\\Delta t }{2}) \\\\\n",
    "$$\n",
    "\n",
    "$$\n",
    "k_4= f( x_n + \\Delta t k_3, t_n + \\Delta t ) \\\\\n",
    "$$\n",
    "\n",
    "Then:\n",
    "\n",
    "$$\n",
    "x_{n+1} = x_n + \\frac{\\Delta t}{6}(k_1+2k_2 + 2k_3 +k_4 )\n",
    "$$\n",
    "\n",
    "Where \n",
    "- $k_1$ is the slope at the beginning of the interval. \n",
    "- $k_2$ and $k_3$ are slopes at the midpoint (with different estimates). \n",
    "- $k_4$ is the slope at the end of the interval. \n",
    "- The weighted average gives better accuracy than a single slope.\n",
    "\n",
    "In fact, the accuracy is \n",
    "\n",
    "$$\n",
    "Accuracy \\sim (\\frac{\\Delta t}{T})^4\n",
    "$$\n",
    "which is 10.000 times better than when using Forward Euler method."
   ]
  },
  {
   "cell_type": "markdown",
   "id": "e6bb0750",
   "metadata": {},
   "source": [
    "## Lorenz system: example of a 3-dimenstional system\n",
    "\n",
    "The Lorenz system is a famous set of three coupled, nonlinear differential equations. Using the 4th Order Runge-Kutta (RK4) method to solve it numerically is a classic example in nonlinear dynamics and chaos theory.\n",
    "\n",
    "The Lorenz equations are:\n",
    "\n",
    "$$\n",
    "\\frac{dx}{dt} = \\sigma (y-x)\n",
    "$$\n",
    "\n",
    "$$\n",
    "\\frac{dy}{dt} = x(\\rho-z) -y\n",
    "$$\n",
    "\n",
    "$$\n",
    "\\frac{dz}{dt} = xy -\\beta z\n",
    "$$\n",
    "\n",
    "Where typical parameters are:\n",
    "\n",
    "- $\\sigma = 10$\n",
    "- $\\rho =28$\n",
    "- $\\beta = \\frac{8}{3}$\n",
    "\n",
    "Goal is to numerically integrate these equations using the RK4. Here is a suggestion of how to do it:"
   ]
  },
  {
   "cell_type": "code",
   "execution_count": null,
   "id": "01f2b6f4",
   "metadata": {
    "vscode": {
     "languageId": "plaintext"
    }
   },
   "outputs": [],
   "source": [
    "import numpy as np\n",
    "import matplotlib.pyplot as plt\n",
    "from mpl_toolkits.mplot3d import Axes3D\n",
    "from matplotlib.animation import FuncAnimation\n",
    "\n",
    "# Parameters\n",
    "sigma = 10\n",
    "rho = 28\n",
    "beta = 8 / 3\n",
    "dt = 0.01\n",
    "T = 50\n",
    "num_steps = int(T / dt)\n",
    "\n",
    "# Arrays to hold the results\n",
    "x = np.zeros(num_steps)\n",
    "y = np.zeros(num_steps)\n",
    "z = np.zeros(num_steps)\n",
    "\n",
    "# Initial conditions\n",
    "x[0], y[0], z[0] = 1, 1, 1\n",
    "\n",
    "# Lorenz system\n",
    "def lorenz(x, y, z):\n",
    "    dx = sigma * (y - x)\n",
    "    dy = x * (rho - z) - y\n",
    "    dz = x * y - beta * z\n",
    "    return dx, dy, dz\n",
    "\n",
    "# RK4 Integration\n",
    "for i in range(num_steps - 1):\n",
    "    dx1, dy1, dz1 = lorenz(x[i], y[i], z[i])\n",
    "    \n",
    "    dx2, dy2, dz2 = lorenz(\n",
    "        x[i] + 0.5 * dt * dx1,\n",
    "        y[i] + 0.5 * dt * dy1,\n",
    "        z[i] + 0.5 * dt * dz1\n",
    "    )\n",
    "    \n",
    "    dx3, dy3, dz3 = lorenz(\n",
    "        x[i] + 0.5 * dt * dx2,\n",
    "        y[i] + 0.5 * dt * dy2,\n",
    "        z[i] + 0.5 * dt * dz2\n",
    "    )\n",
    "    \n",
    "    dx4, dy4, dz4 = lorenz(\n",
    "        x[i] + dt * dx3,\n",
    "        y[i] + dt * dy3,\n",
    "        z[i] + dt * dz3\n",
    "    )\n",
    "    \n",
    "    x[i+1] = x[i] + (dt / 6) * (dx1 + 2*dx2 + 2*dx3 + dx4)\n",
    "    y[i+1] = y[i] + (dt / 6) * (dy1 + 2*dy2 + 2*dy3 + dy4)\n",
    "    z[i+1] = z[i] + (dt / 6) * (dz1 + 2*dz2 + 2*dz3 + dz4)\n",
    "\n",
    "# Plotting the Lorenz attractor\n",
    "fig = plt.figure()\n",
    "ax = fig.add_subplot(111, projection='3d')\n",
    "ax.plot(x, y, z, lw=0.5)\n",
    "ax.set_title(\"Lorenz Attractor (RK4)\")\n",
    "ax.set_xlabel(\"X\")\n",
    "ax.set_ylabel(\"Y\")\n",
    "ax.set_zlabel(\"Z\")\n",
    "plt.tight_layout()\n",
    "plt.show()"
   ]
  },
  {
   "cell_type": "markdown",
   "id": "b91b428b",
   "metadata": {},
   "source": [
    "To animate the 3D properties of the Lorenz attractor:"
   ]
  },
  {
   "cell_type": "code",
   "execution_count": null,
   "id": "1318d322",
   "metadata": {
    "vscode": {
     "languageId": "plaintext"
    }
   },
   "outputs": [],
   "source": [
    "# Plot setup\n",
    "fig = plt.figure()\n",
    "ax = fig.add_subplot(111, projection='3d')\n",
    "line, = ax.plot([], [], [], lw=0.5)\n",
    "ax.set_xlim((min(x), max(x)))\n",
    "ax.set_ylim((min(y), max(y)))\n",
    "ax.set_zlim((min(z), max(z)))\n",
    "ax.set_title(\"Animated Lorenz Attractor\")\n",
    "\n",
    "# Animation function\n",
    "def update(frame):\n",
    "    line.set_data(x[:frame], y[:frame])\n",
    "    line.set_3d_properties(z[:frame])\n",
    "    return line,\n",
    "\n",
    "# Create animation\n",
    "ani = FuncAnimation(fig, update, frames=len(x), interval=1, blit=True)\n",
    "\n",
    "plt.show()"
   ]
  },
  {
   "cell_type": "markdown",
   "id": "4655ff6a",
   "metadata": {},
   "source": [
    "If you want to save the the plot as a animation mp4 file use the following:"
   ]
  },
  {
   "cell_type": "code",
   "execution_count": null,
   "id": "3c3f38e1",
   "metadata": {
    "vscode": {
     "languageId": "plaintext"
    }
   },
   "outputs": [],
   "source": [
    "ani.save('lorenz_animation.mp4', fps=30, dpi=150)\n",
    "\n",
    "# Use plt.style.use('dark_background') before plotting to make it visually striking."
   ]
  }
 ],
 "metadata": {
  "language_info": {
   "name": "python"
  }
 },
 "nbformat": 4,
 "nbformat_minor": 5
}
