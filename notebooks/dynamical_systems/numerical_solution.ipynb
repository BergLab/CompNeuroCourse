{
 "cells": [
  {
   "cell_type": "markdown",
   "id": "f13c1e96",
   "metadata": {},
   "source": [
    "# Solving differential equations: Numerical solution\n",
    "\n",
    "Differential equations can often be solved using a mathematical approach, which is called \"analytical solution\". This requires good skills in math, as a minimum. Some differential equations are not even possible to solve analytically. Therefore it is very useful to be able to solve differenntial equations using an approximation and a computer. That is called a \"numerical solution\" or solving the equation numerically."
   ]
  },
  {
   "cell_type": "markdown",
   "id": "dd4b62b4",
   "metadata": {},
   "source": []
  },
  {
   "cell_type": "code",
   "execution_count": null,
   "id": "be2f5987",
   "metadata": {
    "vscode": {
     "languageId": "plaintext"
    }
   },
   "outputs": [],
   "source": [
    "testing"
   ]
  }
 ],
 "metadata": {
  "language_info": {
   "name": "python"
  }
 },
 "nbformat": 4,
 "nbformat_minor": 5
}
