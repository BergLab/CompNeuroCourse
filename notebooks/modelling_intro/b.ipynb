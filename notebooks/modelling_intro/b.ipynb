{
 "cells": [
  {
   "cell_type": "markdown",
   "id": "78aa8a38",
   "metadata": {},
   "source": [
    "# Example of a dynamical system\n",
    "Here we look at a classical yet simple system. "
   ]
  },
  {
   "cell_type": "code",
   "execution_count": null,
   "id": "3b9efb5a",
   "metadata": {},
   "outputs": [],
   "source": []
  }
 ],
 "metadata": {
  "language_info": {
   "name": "python"
  }
 },
 "nbformat": 4,
 "nbformat_minor": 5
}
