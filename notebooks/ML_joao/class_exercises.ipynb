{
 "cells": [
  {
   "cell_type": "markdown",
   "id": "3066b496",
   "metadata": {},
   "source": [
    "# ML Workshop — Practice Exercises (Computational Neuroscience 2025)\n",
    "\n",
    "These exercises are designed to help you review and apply the concepts covered in the three workshop notebooks.\n",
    "\n",
    "🧠 Tip: You are encouraged to use the notebooks, look things up, or ask ChatGPT — but make sure you can explain your final answer in your own words.\n",
    "\n",
    "---\n"
   ]
  },
  {
   "cell_type": "markdown",
   "metadata": {},
   "source": [
    "## Exercise 1: Classify a Neuron with Your Own Rules\n",
    "Modify the Perceptron training in `ch02_expanded.ipynb` by:\n",
    "\n",
    "1. Selecting two different features from the dataset (not the ones originally used).\n",
    "2. Training a new Perceptron on those features.\n",
    "3. Plotting the decision boundary.\n",
    "\n",
    "🧩 Reflection: Did your classifier perform better or worse? Why might that be?\n"
   ]
  },
  {
   "cell_type": "code",
   "execution_count": null,
   "id": "febf2a82",
   "metadata": {},
   "outputs": [],
   "source": []
  },
  {
   "cell_type": "markdown",
   "id": "919c3f2b",
   "metadata": {},
   "source": [
    "## Exercise 2: Adjust the Learning Rate\n",
    "\n",
    "Use the AdalineGD model from notebook 2.\n",
    "\n",
    "1. Try three different values of the learning rate (η), e.g., 0.001, 0.01, 0.1.\n",
    "2. Plot the loss curve for each setting.\n",
    "\n",
    "🧩 Reflection: How does the learning rate affect convergence? What happens if it's too large or too small?\n"
   ]
  },
  {
   "cell_type": "code",
   "execution_count": null,
   "id": "6775a021",
   "metadata": {},
   "outputs": [],
   "source": []
  },
  {
   "cell_type": "markdown",
   "id": "383855ee",
   "metadata": {},
   "source": [
    "## Exercise 3: Logistic Regression vs SVM\n",
    "Use the same 2D projection from the synthetic neuron dataset and:\n",
    "\n",
    "1. Train both a Logistic Regression and a Linear SVM on the data.\n",
    "2. Plot and compare their decision boundaries.\n",
    "3. Try modifying the `C` value in the SVM. What changes?\n",
    "\n",
    "🧩 Reflection: Which model seems more “confident” or stricter in its decisions?\n"
   ]
  },
  {
   "cell_type": "code",
   "execution_count": null,
   "id": "c4c47af8",
   "metadata": {},
   "outputs": [],
   "source": []
  },
  {
   "cell_type": "markdown",
   "id": "7e492475",
   "metadata": {},
   "source": [
    "## Exercise 4: Decision Trees at Different Depths\n",
    "Train decision trees with max_depth = 2, 4, 6.\n",
    "\n",
    "1. Plot their decision boundaries.\n",
    "2. Use `plot_tree()` to see how splits are made.\n",
    "3. Compare the accuracy for each.\n",
    "\n",
    "🧩 Reflection: What’s the risk of using very deep trees?\n"
   ]
  },
  {
   "cell_type": "code",
   "execution_count": null,
   "id": "260af6fb",
   "metadata": {},
   "outputs": [],
   "source": []
  },
  {
   "cell_type": "markdown",
   "id": "dd4b2843",
   "metadata": {},
   "source": [
    "## Exercise 5: Dimensionality Reduction Showdown\n",
    "1. Use PCA, LDA, and t-SNE to reduce the 4D neuron dataset to 2D.\n",
    "2. Plot the projections side by side.\n",
    "3. Which methods separate classes best? Which look smooth vs noisy?\n",
    "\n",
    "🧩 Reflection: When would you choose each of these techniques in neuroscience?\n"
   ]
  },
  {
   "cell_type": "code",
   "execution_count": null,
   "id": "1bfb0382",
   "metadata": {},
   "outputs": [],
   "source": []
  },
  {
   "cell_type": "markdown",
   "id": "dacb647c",
   "metadata": {},
   "source": [
    "## Optional (Bonus) Exercise 6: KNN Classifier Intuition\n",
    "1. Use KNN with k = 1, 3, 9 on the 2D PCA projection.\n",
    "2. Plot the decision boundaries.\n",
    "3. Comment on how smooth or wiggly the classifier becomes.\n",
    "\n",
    "🧩 Reflection: What’s the tradeoff when increasing k?\n"
   ]
  },
  {
   "cell_type": "code",
   "execution_count": null,
   "id": "f1fe226d",
   "metadata": {},
   "outputs": [],
   "source": []
  }
 ],
 "metadata": {
  "kernelspec": {
   "display_name": "Python 3",
   "language": "python",
   "name": "python3"
  },
  "language_info": {
   "codemirror_mode": {
    "name": "ipython",
    "version": 3
   },
   "file_extension": ".py",
   "mimetype": "text/x-python",
   "name": "python",
   "nbconvert_exporter": "python",
   "pygments_lexer": "ipython3",
   "version": "3.12.8"
  }
 },
 "nbformat": 4,
 "nbformat_minor": 5
}
