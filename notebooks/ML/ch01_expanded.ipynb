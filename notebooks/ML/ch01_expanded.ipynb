{
 "cells": [
  {
   "cell_type": "markdown",
   "metadata": {},
   "source": [
    "> Adapted from *Machine Learning with PyTorch and Scikit-Learn* by Raschka et al.  \n",
    "> Figures and selected functions used under CC BY-NC 4.0.  \n",
    "> Markdown content and examples modified for educational use in neuroscience."
   ]
  },
  {
   "cell_type": "markdown",
   "metadata": {},
   "source": [
    "# Introduction to Machine Learning for Neuroscience\n",
    "**Chapter 1/3 — Adapted for SNEU20007U Computational Neuroscience**\n",
    "\n",
    "In neuroscience, we are surrounded by data — from spike waveforms to imaging volumes, from behavioral readouts to connectomic maps. The sheer quantity of it is both a gift and a curse. How do we make sense of it?\n",
    "\n",
    "This is where **Machine Learning (ML)** comes in. It provides us with mathematical tools to **extract patterns**, **classify**, **predict**, and ultimately **gain insight** from our data without explicitly coding every rule.\n",
    "\n",
    "This notebook is an **introductory chapter** where we will:\n",
    "- Understand what machine learning is (and isn't)\n",
    "- Learn about the three major categories of ML\n",
    "- Discuss how ML applies to neuroscience research\n",
    "- Cover key terminology like \"features\", \"labels\", and \"loss\"\n",
    "- Replace examples using flower petal datasets with biologically-inspired synthetic neuron data\n",
    "\n",
    "We will not dive into code in this chapter, but rather set the **theoretical foundations** for what follows."
   ]
  },
  {
   "cell_type": "markdown",
   "metadata": {},
   "source": [
    "..."
   ]
  },
  {
   "cell_type": "markdown",
   "metadata": {},
   "source": [
    "## 1. What is Machine Learning?\n",
    "\n",
    "**Machine Learning** is the science (and art) of teaching computers to learn from data. Rather than coding explicit instructions, we give a machine data and ask it to figure out the underlying structure — so that it can make predictions or decisions on new, unseen data.\n",
    "\n",
    "We can think of ML as programming with examples.\n",
    "\n",
    "### ML in Neuroscience\n",
    "- Predict neuron types based on spike waveform shape\n",
    "- Classify brain states from calcium imaging\n",
    "- Discover latent patterns in connectomic graphs\n",
    "- Model behavior from neural activity\n",
    "\n",
    "### Real-World Examples of ML\n",
    "- Email spam detection\n",
    "- Image recognition\n",
    "- Protein folding (e.g. AlphaFold)\n",
    "- Forecasting hospital resource usage (COVID-19)\n",
    "- Brain-machine interfaces\n",
    "\n",
    "In short: **ML turns data into insight.**\n"
   ]
  },
  {
   "cell_type": "markdown",
   "metadata": {},
   "source": [
    "..."
   ]
  },
  {
   "cell_type": "markdown",
   "metadata": {},
   "source": [
    "## 2. The Three Types of Machine Learning\n",
    "\n",
    "We can divide ML into three major types, each with different assumptions about the data:\n",
    "\n",
    "<img src=\"./figures/01_01.png\" width=\"600\">\n",
    "\n",
    "### 2.1 Supervised Learning\n",
    "You have **input data** and **labels**.\n",
    "- Goal: Learn a mapping from inputs to outputs.\n",
    "- Neuroscience example: Classify neuron type from waveform shape.\n",
    "\n",
    "Types:\n",
    "- **Classification**: Predict discrete labels (e.g., pyramidal vs interneuron)\n",
    "\n",
    "<img src=\"./figures/01_03.png\" width=\"300\">\n",
    "\n",
    "- **Regression**: Predict continuous outputs (e.g., firing rate)\n",
    "\n",
    "<img src=\"./figures/01_04.png\" width=\"300\">\n",
    "\n",
    "### 2.2 Unsupervised Learning\n",
    "You only have **input data**, no labels.\n",
    "- Goal: Discover hidden structure in the data.\n",
    "- Neuroscience example: Cluster neural activity patterns across the brain.\n",
    "\n",
    "Types:\n",
    "- **Clustering**\n",
    "\n",
    "<img src=\"./figures/01_06.png\" width=\"300\">\n",
    "\n",
    "- **Dimensionality Reduction** (e.g., PCA, t-SNE)\n",
    "\n",
    "<img src=\"./figures/01_07.png\" width=\"300\">\n",
    "\n",
    "### 2.3 Reinforcement Learning\n",
    "An **agent** interacts with an environment to maximize **rewards**.\n",
    "- Neuroscience example: BCI adapting based on reward signal (e.g., movement success)\n",
    "- Often used in control, robotics, game playing\n",
    "\n",
    "<img src=\"./figures/01_05.png\" width=\"300\">\n",
    "\n",
    "We will focus primarily on **supervised learning** in this course.\n"
   ]
  },
  {
   "cell_type": "markdown",
   "metadata": {},
   "source": [
    "..."
   ]
  },
  {
   "cell_type": "markdown",
   "metadata": {},
   "source": [
    "## 3. Key Terminology in ML\n",
    "\n",
    "Here’s a neuroscience-friendly glossary of ML terms:\n",
    "\n",
    "| Term            | Meaning (Neuroscience Example)                     |\n",
    "|-----------------|---------------------------------------------------|\n",
    "| Feature (x)     | Measurable input variable (e.g. spike width)      |\n",
    "| Label (y)       | Output category (e.g. neuron type)                |\n",
    "| Sample / Row    | One observation (e.g. one spike waveform)         |\n",
    "| Dataset         | Collection of samples                             |\n",
    "| Model           | Mathematical function learned from data           |\n",
    "| Training        | The process of learning a model                   |\n",
    "| Prediction      | Model’s guess for new data                        |\n",
    "| Loss Function   | How wrong the model is on current predictions     |\n",
    "| Generalization  | How well the model performs on unseen data        |\n",
    "\n",
    "ML aims to **minimize the loss** while maximizing generalization.\n",
    "\n",
    "<img src=\"./figures/01_08.png\" width=\"600\">"
   ]
  },
  {
   "cell_type": "markdown",
   "metadata": {},
   "source": [
    "..."
   ]
  },
  {
   "cell_type": "markdown",
   "metadata": {},
   "source": [
    "## 4. The ML Workflow\n",
    "\n",
    "When using ML to solve a neuroscience problem — like classifying neurons based on waveform features — we typically follow this roadmap:\n",
    "\n",
    "1. **Data Preprocessing**\n",
    "   - Clean, normalize, structure your data\n",
    "2. **Feature Extraction**\n",
    "   - Derive meaningful features from raw data (e.g., spike symmetry)\n",
    "3. **Train/Test Split**\n",
    "   - Split data to train your model and evaluate it later\n",
    "4. **Model Training**\n",
    "   - Use an algorithm (e.g. logistic regression, k-NN) to learn\n",
    "5. **Model Evaluation**\n",
    "   - Assess performance with accuracy, confusion matrix, etc.\n",
    "6. **Prediction**\n",
    "   - Apply the model to new, unlabeled data\n",
    "\n",
    "<img src=\"./figures/01_09.png\" width=\"600\">\n",
    "\n",
    "\n",
    "Each of these steps will be explored in detail in future notebooks."
   ]
  },
  {
   "cell_type": "markdown",
   "metadata": {},
   "source": [
    "> Adapted from *Machine Learning with PyTorch and Scikit-Learn* by Raschka et al.  \n",
    "> Figures and selected functions used under CC BY-NC 4.0.  \n",
    "> Markdown content and examples modified for educational use in neuroscience.\n"
   ]
  },
  {
   "cell_type": "markdown",
   "metadata": {},
   "source": [
    "<br>\n",
    "<br>"
   ]
  }
 ],
 "metadata": {
  "anaconda-cloud": {},
  "kernelspec": {
   "display_name": "Python 3",
   "language": "python",
   "name": "python3"
  },
  "language_info": {
   "codemirror_mode": {
    "name": "ipython",
    "version": 3
   },
   "file_extension": ".py",
   "mimetype": "text/x-python",
   "name": "python",
   "nbconvert_exporter": "python",
   "pygments_lexer": "ipython3",
   "version": "3.12.8"
  }
 },
 "nbformat": 4,
 "nbformat_minor": 4
}
