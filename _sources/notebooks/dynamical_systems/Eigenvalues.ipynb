{
 "cells": [
  {
   "cell_type": "markdown",
   "id": "0dbd1490",
   "metadata": {},
   "source": [
    "## Two-Dimensional Linear Systems: Eigenvalues, Eigenvectors and solutions\n",
    "Let us start by looking at a 2d system of the following coupled differential equations:\n",
    "\n",
    "$$\n",
    "\\dot x = ax+by\n",
    "\n",
    "\\\\ \n",
    "\\dot y = cx+dy\n",
    "\n",
    "$$\n",
    "\n",
    "Where a, b, c, and d are constants. x and y are the two variables. Remember that $\\dot x$ is just a different notation for $\\frac{dx}{dt}$. So, we can alternatively write the above as:\n",
    "\n",
    "$$\n",
    "\\frac{dx}{dt} = ax+by\n",
    "$$\n",
    "\n",
    "$$\n",
    "\\frac{dy}{dt} = cx+dy\n",
    "\n",
    "$$\n",
    "\n",
    "This can be written as a vector and matrix equation:\n",
    "\n",
    "$$\n",
    "\n",
    "\\frac{d}{dt} \\begin{bmatrix} x \\\\ y \\end{bmatrix} = \\begin{bmatrix} a & b \\\\ c & d \\end{bmatrix} \\begin{bmatrix} x \\\\ y \\end{bmatrix}"
   ]
  }
 ],
 "metadata": {
  "language_info": {
   "name": "python"
  }
 },
 "nbformat": 4,
 "nbformat_minor": 5
}
