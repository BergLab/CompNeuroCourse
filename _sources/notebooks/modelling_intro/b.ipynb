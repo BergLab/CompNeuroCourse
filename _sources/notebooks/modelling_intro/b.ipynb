{
 "cells": [
  {
   "cell_type": "markdown",
   "id": "fa87d0f3",
   "metadata": {},
   "source": [
    "## Predator–prey dynamics: Simulation\n",
    "\n",
    "***Section Credit**: [Sri Vallabha](https://github.com/hasan2014/assignment-bank) and [Frank Hoppensteadt (2006) Predator-prey model. Scholarpedia, 1(10):1563](http://www.scholarpedia.org/article/Predator-prey_model) under CC BY 3.0 with changes.*"
   ]
  },
  {
   "cell_type": "markdown",
   "id": "0a084992",
   "metadata": {},
   "source": [
    "In the previous section we have modelled the activity of a single neuron using a single differential equation. What if we want to model the activity of systems with several interacting elements —like a population of neurons? In this case we will need to introduce at least one differential equation per system component. That is, if we have a population of 10 neurons connected to each other —*coupled*—, we will need at least 10 differential equations to model the whole network activity: we say then that we have a *system of coupled differential equations*. In the chapter *Simulation of neural population*, we will do precisely so; but first, let us have a short break from neurons and look at another coupled system\n",
    "\n",
    "Predator-prey models are a popular model to describe how species intreractions in ecosystems. Species compete, evolve and disperse simply for the purpose of seeking resources to sustain their struggle for their very existence. Depending on their specific settings of applications, they can take the forms of resource-consumer, plant-herbivore, parasite-host, tumor cells (virus)-immune system, susceptible-infectious interactions, etc. They deal with the general loss-win interactions and hence may have applications outside of ecosystems. When seemingly competitive interactions are carefully examined, they are often in fact some forms of predator-prey interaction in disguise. \n",
    "\n",
    "The Lotka–Volterra equations, also known as the predator–prey equations, are a pair of first-order, non-linear, autonomous* differential equations. They are frequently used to describe the dynamics of biological systems in which two species interact, one as a predator and the other as prey. You can read more about this from Wikipedia <http://en.wikipedia.org/wiki/Lotka-Volterra_equation>.\n",
    "\n",
    "*Autonomous system or autonomous differential equation is a system of ordinary differential equations which does not explicitly depend on the independent variable, typically dynamical systems are autonomous if the state of the system does not **explicitly** depend on the time $t$.*"
   ]
  },
  {
   "cell_type": "markdown",
   "id": "a5487bc1",
   "metadata": {},
   "source": [
    " Their populations change with time according to the following pair of equations:\n",
    "\n",
    "$$\n",
    "\\frac{dx}{dt} = x ( \\alpha - \\beta y  ) \n",
    "$$\n",
    "\n",
    "$$\n",
    "\\frac{dy}{dt} = -y( \\gamma - \\delta x )\n",
    "$$\n",
    "\n",
    "where:\n",
    "\n",
    "- $x$ is the number of prey (say rabbits),\n",
    "- $y$ is the number of predators (say foxes). \n",
    "- $dx/dt, dy/dt$ gives the rate of change of their respective populations over \n",
    "time $t$.  \n",
    "  \n",
    "$\\alpha, \\beta, \\gamma, \\delta $ are the parameters describing the interaction between the two species:\n",
    "- $\\alpha$ is the reproduction rate of species x (the prey) in the absence of interaction with species y (the predators), ie. assuming it's not predated and has infinite food supply available.\n",
    "- $\\beta$ is the eating rate of predator per prey (equals to the death rate of prey per predator) \n",
    "- $\\gamma$ is the death rate of species y (the predators) in the absence of interaction with species x, eg. if no preys are available.\n",
    "- $\\delta$ is the reproduction rate of predator per prey."
   ]
  },
  {
   "cell_type": "markdown",
   "id": "aa3d926f",
   "metadata": {},
   "source": [
    "The above equations can be written in a slightly different form to interpret the physical meaning of the four parameters used.\n",
    "\n",
    "1.Equation for prey\n",
    "\n",
    "$$\n",
    "dx/dt = \\alpha x - \\beta x y \n",
    "$$\n",
    "\n",
    "The prey are supposed to have unlimited supply of food and $\\alpha x$ represents the rate of population growth of prey. Rate of decrease of population of prey is \n",
    "assumed to be proportional to the rate at which predator and prey meet and is given by $ \\beta y x$\n",
    "\n",
    "2.Equation for predator\n",
    "\n",
    "$$\n",
    "dy/dt = \\delta x y -\\gamma y\n",
    "$$\n",
    "\n",
    "For the predators, $\\delta x y $ gives the rate of growth of predator population. Note that this is similar to the rate of decrease of population of prey. The second term\n",
    "$\\gamma y $ gives the rate of population decrease for predators due to natural death or emigration."
   ]
  },
  {
   "cell_type": "markdown",
   "id": "8f8d355a",
   "metadata": {},
   "source": [
    "To solve this system of two differential equations using python, we first need to type the equations as functions as well as it parameters. The function simply needs to return the right hand side of the equations"
   ]
  },
  {
   "cell_type": "code",
   "execution_count": null,
   "id": "c7f0ab74",
   "metadata": {},
   "outputs": [],
   "source": [
    "import numpy as np\n",
    "\n",
    "# Define the function that represents the Lotka-Volterra equations\n",
    "def predatorprey(xy, t, alpha, beta, delta, gamma):\n",
    "    x, y = xy\n",
    "    dxdt = x * (alpha - beta * y)\n",
    "    dydt = - y * (gamma - delta * x)\n",
    "    return np.array([dxdt, dydt])\n"
   ]
  },
  {
   "cell_type": "markdown",
   "id": "7edce375",
   "metadata": {},
   "source": [
    "Now we will use python library Scipy to numerically solve the system. Speciafically we will use the function [scipy.integrate.odeint()](https://docs.scipy.org/doc/scipy/reference/generated/scipy.integrate.odeint.html)."
   ]
  },
  {
   "cell_type": "code",
   "execution_count": null,
   "id": "202cb175",
   "metadata": {},
   "outputs": [],
   "source": [
    "# We import scipy ordinary differential equations solver\n",
    "from scipy.integrate import odeint\n",
    "\n",
    "#Defined the model parameters\n",
    "alpha = 1.\n",
    "beta = 1.2\n",
    "gamma = 4.\n",
    "delta = 1.\n",
    "\n",
    "# Initial population size of each species\n",
    "x0 = 10.\n",
    "y0 = 2.\n",
    "X0 = [x0, y0]\n",
    "\n",
    "# Simulation timesteps\n",
    "T  = 30.0                             # final time (the units will depend on what units we have chosen for the model constants)\n",
    "N = 10000                             # number of time-steps for the simulation\n",
    "t = np.linspace(0.,T, N)\n",
    "\n",
    "# Call differential equation solver and stores result in variable res\n",
    "solution = odeint(predatorprey, X0, t, args = (alpha, beta, delta, gamma))\n",
    "\n",
    "# Unpack the solution values into two variables\n",
    "x_solution, y_solution = solution.T"
   ]
  },
  {
   "cell_type": "markdown",
   "id": "a2035a9a",
   "metadata": {},
   "source": [
    "We will now plot the variation of population for each species with time:"
   ]
  },
  {
   "cell_type": "code",
   "execution_count": null,
   "id": "79faff66",
   "metadata": {},
   "outputs": [],
   "source": [
    "from matplotlib import pyplot as plt\n",
    "\n",
    "plt.figure(figsize=(10, 6))\n",
    "plt.grid()\n",
    "plt.title(\"Predator-prey dynamics\")\n",
    "plt.plot(t, x_solution, label = 'Prey')\n",
    "plt.plot(t, y_solution, label = \"Predator\")\n",
    "plt.xlabel('Time t, [days]', fontsize=12)\n",
    "plt.ylabel('Population', fontsize=12)\n",
    "plt.legend()\n",
    "plt.show()"
   ]
  },
  {
   "cell_type": "markdown",
   "id": "160afdc9",
   "metadata": {},
   "source": [
    "A better understanding of the system behaviour can be obtained by a phase plot of the population of predators vs. the population of prey. It will tell us if the system sustains or collapses over time. For the choice of parameters $ \\alpha, \\beta, \\gamma $ and $ \\delta $ made above, we see that the maximum population of each species keeps increasing each cycle. You can read more about that in the Wikipedia link mentioned above."
   ]
  },
  {
   "cell_type": "markdown",
   "id": "2e2dbc57",
   "metadata": {},
   "source": [
    "### Exercises\n",
    "\n",
    "- Play with parameters to get a sense of the bahaviour of the system and diccuss with your group the system behaviours that you observe. Try to interpret the physical meaning of the changes to the model parameters."
   ]
  },
  {
   "cell_type": "code",
   "execution_count": null,
   "id": "bb786e5f",
   "metadata": {},
   "outputs": [],
   "source": [
    "#@title  { run: \"auto\", vertical-output: true }\n",
    "alpha = 1.0 #@param {type:\"slider\", min:0.1, max:4, step:0.1}\n",
    "beta  = 1.2 #@param {type:\"slider\", min:0.1, max:4, step:0.1}\n",
    "gamma = 4.0 #@param {type:\"slider\", min:0.1, max:8, step:0.1}\n",
    "delta = 1.0 #@param {type:\"slider\", min:0.1, max:4, step:0.1}\n",
    "\n",
    "# Initial population size of each species\n",
    "preys = 5 #@param {type:\"slider\", min:2, max:10, step:1}\n",
    "predactors = 9 #@param {type:\"slider\", min:2, max:10, step:1}\n",
    "\n",
    "X0 = [preys, predactors]\n",
    "\n",
    "# Simulation timesteps\n",
    "T  = 30.0                             # final time, units depend the constant's units chosen \n",
    "N = 10000                             # number of time-steps for the simulation\n",
    "t = np.linspace(0.,T, N)\n",
    "\n",
    "# Call differential equation solver and stores result in variable res\n",
    "solution = odeint(predatorprey, X0, t, args = (alpha, beta, delta, gamma))\n",
    "\n",
    "# Unpack the solution values into two variables\n",
    "x_solution, y_solution = solution.T\n",
    "\n",
    "# Plot results\n",
    "plt.figure(figsize=(14, 8))\n",
    "plt.grid()\n",
    "plt.title(\"Predator-prey solved with scipy odeint\", fontsize=16)\n",
    "plt.plot(t, x_solution, label = 'Prey')\n",
    "plt.plot(t, y_solution, label = \"Predator\")\n",
    "plt.xlabel('Time', fontsize=16)\n",
    "plt.ylabel('Populations size', fontsize=16)\n",
    "plt.legend(fontsize=18)\n",
    "plt.show()"
   ]
  },
  {
   "cell_type": "markdown",
   "id": "fbfb98f9",
   "metadata": {},
   "source": [
    "- Can you find a set of parameters for which the preyed population become extinct?"
   ]
  },
  {
   "cell_type": "markdown",
   "id": "d5af710d",
   "metadata": {},
   "source": [
    "#### Phase space analysis\n",
    "\n",
    "If instead of interesting ourselves into how the population evolve overtime, we look at a population value as a function of the other, we call this **phase analysis** of the system. We can easily plot phase space by plotting the results previously obtained:"
   ]
  },
  {
   "cell_type": "code",
   "execution_count": null,
   "id": "34d88308",
   "metadata": {},
   "outputs": [],
   "source": [
    "plt.figure(figsize=(10, 6))\n",
    "plt.grid()\n",
    "plt.title(\"Predator-prey Phase space\", fontsize=16)\n",
    "plt.plot(x_solution, y_solution, label = 'Prey')\n",
    "plt.xlabel('Prey', fontsize=16)\n",
    "plt.ylabel('Predator', fontsize=16)\n",
    "plt.legend()\n",
    "plt.show()"
   ]
  },
  {
   "cell_type": "markdown",
   "id": "52fa42e7",
   "metadata": {},
   "source": [
    " - We can also look at both the time evolution and phase representation at the same time. Is the shape of the phase space preserved for different model values?"
   ]
  },
  {
   "cell_type": "code",
   "execution_count": null,
   "id": "52831e5c",
   "metadata": {},
   "outputs": [],
   "source": [
    "#@title  { run: \"auto\", vertical-output: true }\n",
    "alpha = 1 #@param {type:\"slider\", min:0.1, max:4, step:0.1}\n",
    "beta  = 1.2 #@param {type:\"slider\", min:0.1, max:4, step:0.1}\n",
    "gamma = 4.0 #@param {type:\"slider\", min:0.1, max:8, step:0.1}\n",
    "delta = 1.0 #@param {type:\"slider\", min:0.1, max:4, step:0.1}\n",
    "\n",
    "# Initial population size of each species\n",
    "preys = 5 #@param {type:\"slider\", min:5, max:20, step:1}\n",
    "predactors = 10 #@param {type:\"slider\", min:5, max:20, step:1}\n",
    "\n",
    "X0 = [preys, predactors]\n",
    "\n",
    "# Simulation timesteps\n",
    "T  = 30.0                             # final time, units depend the constant's units chosen \n",
    "N = 10000                             # number of time-steps for the simulation\n",
    "t = np.linspace(0.,T, N)\n",
    "\n",
    "# Call differential equation solver and stores result in variable res\n",
    "solution = odeint(predatorprey, X0, t, args = (alpha, beta, delta, gamma))\n",
    "\n",
    "# Unpack the solution values into two variables\n",
    "x_solution, y_solution = solution.T\n",
    "\n",
    "# Plot results\n",
    "plt.figure(figsize=(10, 6))\n",
    "plt.grid()\n",
    "plt.title(\"Predator-prey population dynamics\", fontsize=16)\n",
    "plt.plot(t, x_solution, label = 'Prey')\n",
    "plt.plot(t, y_solution, label = \"Predator\")\n",
    "plt.xlabel('Time', fontsize=16)\n",
    "plt.ylabel('Populations size', fontsize=16)\n",
    "plt.ylim(0,20)\n",
    "plt.legend(fontsize=16)\n",
    "\n",
    "plt.figure(figsize=(10, 6))\n",
    "plt.grid()\n",
    "plt.title(\"Predator-prey Phase space\", fontsize=16)\n",
    "plt.plot(x_solution, y_solution)\n",
    "plt.xlabel('Prey', fontsize=16)\n",
    "plt.ylabel('Predator', fontsize=16)\n",
    "plt.ylim(0,20)\n",
    "plt.show()"
   ]
  },
  {
   "cell_type": "markdown",
   "id": "2dc80810",
   "metadata": {},
   "source": [
    "Phase spaces are a powerful tool that allow us to understand the relations between the variables of a dynamical system. Be it relation between predators and preys, between two neurotransmitters or any other dynamical variables."
   ]
  },
  {
   "cell_type": "code",
   "execution_count": null,
   "id": "3b9efb5a",
   "metadata": {},
   "outputs": [],
   "source": []
  }
 ],
 "metadata": {
  "language_info": {
   "name": "python"
  }
 },
 "nbformat": 4,
 "nbformat_minor": 5
}
