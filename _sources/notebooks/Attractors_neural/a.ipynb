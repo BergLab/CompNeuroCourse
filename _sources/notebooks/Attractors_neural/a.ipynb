{
 "cells": [
  {
   "cell_type": "markdown",
   "id": "f199bbff",
   "metadata": {},
   "source": [
    "# Intro to attractors\n",
    "ajkshdflsAJKHF ahjksfd lakshf lkjh asdlkjhas LDKJHa lkh"
   ]
  }
 ],
 "metadata": {
  "language_info": {
   "name": "python"
  }
 },
 "nbformat": 4,
 "nbformat_minor": 5
}
