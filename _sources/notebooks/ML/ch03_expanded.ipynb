{
 "cells": [
  {
   "cell_type": "markdown",
   "id": "ec221eb4",
   "metadata": {},
   "source": [
    "> Adapted from *Machine Learning with PyTorch and Scikit-Learn* by Raschka et al.  \n",
    "> Figures and selected functions used under CC BY-NC 4.0.  \n",
    "> Markdown content and examples modified for educational use in neuroscience."
   ]
  },
  {
   "cell_type": "markdown",
   "id": "599e602d",
   "metadata": {},
   "source": [
    "# A Tour of Machine Learning Classifiers  \n",
    "**Chapter 3/3 — Adapted for SNEU20007U Computational Neuroscience**\n",
    "\n",
    "In this notebook, we explore key supervised learning algorithms for classification, focusing on:\n",
    "- Logistic Regression\n",
    "- Support Vector Machines (SVM)\n",
    "- Kernel SVMs\n",
    "\n",
    "We apply these tools to a 3-class synthetic dataset of neurons — `Interneuron`, `Pyramidal`, and `Bursting` — described by spike waveform features. These examples replace the traditional `iris` dataset.\n"
   ]
  },
  {
   "cell_type": "code",
   "execution_count": 9,
   "id": "f101e8c3",
   "metadata": {},
   "outputs": [
    {
     "data": {
      "text/html": [
       "<div>\n",
       "<style scoped>\n",
       "    .dataframe tbody tr th:only-of-type {\n",
       "        vertical-align: middle;\n",
       "    }\n",
       "\n",
       "    .dataframe tbody tr th {\n",
       "        vertical-align: top;\n",
       "    }\n",
       "\n",
       "    .dataframe thead th {\n",
       "        text-align: right;\n",
       "    }\n",
       "</style>\n",
       "<table border=\"1\" class=\"dataframe\">\n",
       "  <thead>\n",
       "    <tr style=\"text-align: right;\">\n",
       "      <th></th>\n",
       "      <th>spike_width</th>\n",
       "      <th>amplitude</th>\n",
       "      <th>upstroke_downstroke</th>\n",
       "      <th>symmetry_index</th>\n",
       "      <th>neuron_type</th>\n",
       "    </tr>\n",
       "  </thead>\n",
       "  <tbody>\n",
       "    <tr>\n",
       "      <th>0</th>\n",
       "      <td>0.272854</td>\n",
       "      <td>32.200119</td>\n",
       "      <td>1.425135</td>\n",
       "      <td>0.941085</td>\n",
       "      <td>Interneuron</td>\n",
       "    </tr>\n",
       "    <tr>\n",
       "      <th>1</th>\n",
       "      <td>0.103672</td>\n",
       "      <td>30.233654</td>\n",
       "      <td>1.238352</td>\n",
       "      <td>0.752564</td>\n",
       "      <td>Interneuron</td>\n",
       "    </tr>\n",
       "    <tr>\n",
       "      <th>2</th>\n",
       "      <td>0.248740</td>\n",
       "      <td>33.602171</td>\n",
       "      <td>1.463819</td>\n",
       "      <td>0.916669</td>\n",
       "      <td>Interneuron</td>\n",
       "    </tr>\n",
       "    <tr>\n",
       "      <th>3</th>\n",
       "      <td>0.254952</td>\n",
       "      <td>48.454309</td>\n",
       "      <td>1.340253</td>\n",
       "      <td>0.671106</td>\n",
       "      <td>Interneuron</td>\n",
       "    </tr>\n",
       "    <tr>\n",
       "      <th>4</th>\n",
       "      <td>0.277656</td>\n",
       "      <td>32.808380</td>\n",
       "      <td>1.463535</td>\n",
       "      <td>0.792511</td>\n",
       "      <td>Interneuron</td>\n",
       "    </tr>\n",
       "  </tbody>\n",
       "</table>\n",
       "</div>"
      ],
      "text/plain": [
       "   spike_width  amplitude  upstroke_downstroke  symmetry_index  neuron_type\n",
       "0     0.272854  32.200119             1.425135        0.941085  Interneuron\n",
       "1     0.103672  30.233654             1.238352        0.752564  Interneuron\n",
       "2     0.248740  33.602171             1.463819        0.916669  Interneuron\n",
       "3     0.254952  48.454309             1.340253        0.671106  Interneuron\n",
       "4     0.277656  32.808380             1.463535        0.792511  Interneuron"
      ]
     },
     "execution_count": 9,
     "metadata": {},
     "output_type": "execute_result"
    }
   ],
   "source": [
    "from ch03_expanded import load_synthetic_neurons_3class\n",
    "\n",
    "# Load data\n",
    "X, y, df = load_synthetic_neurons_3class(as_frame=True, overlap=1.5)\n",
    "df.head()\n"
   ]
  },
  {
   "cell_type": "markdown",
   "id": "ff52571e",
   "metadata": {},
   "source": [
    "## 4. Modeling Class Probabilities via Logistic Regression\n",
    "\n",
    "Logistic regression is a **linear classifier** that models the **probability** that a sample belongs to a given class. Unlike the perceptron, which only outputs a class label, logistic regression provides **real-valued probabilities**, which are particularly useful in medical and neuroscience settings where uncertainty matters.\n",
    "\n",
    "For binary classification, the logistic regression model uses the **logistic sigmoid function**:\n",
    "\n",
    "$$\n",
    "P(y = 1 \\mid \\mathbf{x}) = \\frac{1}{1 + e^{-z}}, \\quad \\text{where } z = \\mathbf{w}^T \\mathbf{x} + b\n",
    "$$\n",
    "\n",
    "This expression maps any real-valued input to a value between 0 and 1. The model estimates the probability that the sample belongs to class 1, and class 0 is simply the complement.\n",
    "\n",
    "<img src=\"./figures/03_02.png\" width=\"600\">\n",
    "\n",
    "\n",
    "### Log-Odds Interpretation\n",
    "\n",
    "Instead of modeling class labels directly, logistic regression models the **log-odds** (or *logit*) of the positive class:\n",
    "\n",
    "$$\n",
    "\\log \\left( \\frac{P(y = 1 \\mid \\mathbf{x})}{1 - P(y = 1 \\mid \\mathbf{x})} \\right) = \\mathbf{w}^T \\mathbf{x} + b\n",
    "$$\n",
    "\n",
    "This linear relationship between the features and the log-odds makes logistic regression interpretable and effective for linearly separable data.\n",
    "\n",
    "<img src=\"./figures/03_03.png\" width=\"600\">\n",
    "\n",
    "### Training: The Logistic Loss\n",
    "\n",
    "The logistic regression model is trained by minimizing the **log-loss** (also known as binary cross-entropy):\n",
    "\n",
    "$$\n",
    "\\mathcal{L} = - \\sum_{i=1}^{n} \\left[ y^{(i)} \\log(\\hat{p}^{(i)}) + (1 - y^{(i)}) \\log(1 - \\hat{p}^{(i)}) \\right]\n",
    "$$\n",
    "\n",
    "Where:\n",
    "- $y^{(i)}$ is the true label\n",
    "- $\\hat{p}^{(i)}$ is the predicted probability for class 1\n",
    "\n",
    "This loss function penalizes incorrect predictions more severely when the model is confident but wrong.\n",
    "\n",
    "<!-- <img src=\"./figures/03_25.png\" width=\"600\"> -->\n",
    "\n",
    "### From Binary to Multiclass Classification\n",
    "\n",
    "For problems with more than two classes (like our 3-class synthetic neuron dataset), logistic regression can be extended using either:\n",
    "\n",
    "- **One-vs-Rest (OvR)**: Train a separate binary classifier for each class vs. the rest\n",
    "- **Multinomial (Softmax)**: Generalize the sigmoid function to output a probability distribution over all classes\n",
    "\n",
    "Scikit-learn's `LogisticRegression` supports both approaches and defaults to **multinomial** when using the `'lbfgs'` solver and `multi_class='multinomial'`.\n",
    "\n",
    "We will now train a logistic regression model on our **standardized synthetic neuron waveform dataset**, and visualize how well it separates the neuron types in feature space.\n"
   ]
  },
  {
   "cell_type": "code",
   "execution_count": 10,
   "id": "04be2e22",
   "metadata": {},
   "outputs": [
    {
     "name": "stdout",
     "output_type": "stream",
     "text": [
      "Accuracy: 0.8444444444444444\n"
     ]
    },
    {
     "name": "stderr",
     "output_type": "stream",
     "text": [
      "c:\\Users\\jhc23\\AppData\\Local\\Programs\\Python\\Python312\\Lib\\site-packages\\sklearn\\linear_model\\_logistic.py:1256: FutureWarning: 'multi_class' was deprecated in version 1.5 and will be removed in 1.7. Use OneVsRestClassifier(LogisticRegression(..)) instead. Leave it to its default value to avoid this warning.\n",
      "  warnings.warn(\n"
     ]
    }
   ],
   "source": [
    "from sklearn.model_selection import train_test_split\n",
    "from sklearn.preprocessing import StandardScaler\n",
    "from sklearn.linear_model import LogisticRegression\n",
    "from sklearn.metrics import accuracy_score\n",
    "from sklearn.decomposition import PCA\n",
    "\n",
    "# Preprocess\n",
    "X_train, X_test, y_train, y_test = train_test_split(X, y, test_size=0.3, random_state=42, stratify=y)\n",
    "sc = StandardScaler()\n",
    "X_train_std = sc.fit_transform(X_train)\n",
    "X_test_std = sc.transform(X_test)\n",
    "\n",
    "# Train logistic regression\n",
    "lr = LogisticRegression(multi_class='ovr', solver='lbfgs', C=100.0, random_state=1)\n",
    "lr.fit(X_train_std, y_train)\n",
    "y_pred = lr.predict(X_test_std)\n",
    "\n",
    "print(\"Accuracy:\", accuracy_score(y_test, y_pred))\n"
   ]
  },
  {
   "cell_type": "code",
   "execution_count": 11,
   "id": "24cec6f1",
   "metadata": {},
   "outputs": [
    {
     "data": {
      "image/png": "[encoded data removed]",
      "text/plain": [
       "<Figure size 500x400 with 1 Axes>"
      ]
     },
     "metadata": {},
     "output_type": "display_data"
    }
   ],
   "source": [
    "import numpy as np\n",
    "import matplotlib.pyplot as plt\n",
    "from matplotlib.colors import ListedColormap\n",
    "\n",
    "def plot_decision_regions(X, y, classifier, title=\"\", resolution=0.02):\n",
    "    # Only use first 2 PCA components\n",
    "    pca = PCA(n_components=2)\n",
    "    X_proj = pca.fit_transform(X)\n",
    "    \n",
    "    markers = ('o', 's', '^')\n",
    "    colors = ('red', 'blue', 'green')\n",
    "    cmap = ListedColormap(colors[:len(np.unique(y))])\n",
    "    \n",
    "    x1_min, x1_max = X_proj[:, 0].min() - 1, X_proj[:, 0].max() + 1\n",
    "    x2_min, x2_max = X_proj[:, 1].min() - 1, X_proj[:, 1].max() + 1\n",
    "    xx1, xx2 = np.meshgrid(np.arange(x1_min, x1_max, resolution),\n",
    "                           np.arange(x2_min, x2_max, resolution))\n",
    "    \n",
    "    Z = classifier.predict(pca.inverse_transform(np.array([xx1.ravel(), xx2.ravel()]).T))\n",
    "    Z = Z.reshape(xx1.shape)\n",
    "    \n",
    "    plt.contourf(xx1, xx2, Z, alpha=0.3, cmap=cmap)\n",
    "    plt.xlim(xx1.min(), xx1.max())\n",
    "    plt.ylim(xx2.min(), xx2.max())\n",
    "    \n",
    "    for idx, cl in enumerate(np.unique(y)):\n",
    "        plt.scatter(x=X_proj[y == cl, 0], y=X_proj[y == cl, 1],\n",
    "                    alpha=0.8, c=colors[idx], marker=markers[idx], label=f'Class {cl}',\n",
    "                    edgecolor='black')\n",
    "    plt.xlabel('PC1')\n",
    "    plt.ylabel('PC2')\n",
    "    plt.title(title)\n",
    "    plt.legend()\n",
    "\n",
    "# Plot decision boundary\n",
    "plt.figure(figsize=(5,4))\n",
    "plot_decision_regions(X_test_std, y_test, classifier=lr, title=\"Logistic Regression (OvR)\")\n",
    "plt.show()\n"
   ]
  },
  {
   "cell_type": "code",
   "execution_count": null,
   "id": "bfcbced3",
   "metadata": {},
   "outputs": [],
   "source": []
  }
 ],
 "metadata": {
  "kernelspec": {
   "display_name": "Python 3",
   "language": "python",
   "name": "python3"
  },
  "language_info": {
   "codemirror_mode": {
    "name": "ipython",
    "version": 3
   },
   "file_extension": ".py",
   "mimetype": "text/x-python",
   "name": "python",
   "nbconvert_exporter": "python",
   "pygments_lexer": "ipython3",
   "version": "3.12.8"
  }
 },
 "nbformat": 4,
 "nbformat_minor": 5
}
